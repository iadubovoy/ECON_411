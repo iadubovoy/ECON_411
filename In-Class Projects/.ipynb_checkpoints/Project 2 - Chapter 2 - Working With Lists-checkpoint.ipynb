{
 "cells": [
  {
   "cell_type": "markdown",
   "id": "0dec8c12",
   "metadata": {},
   "source": [
    "# Project 2: Chapter 2 - Working with Lists\n",
    "\n",
    "## Lists can hold any kind of object"
   ]
  },
  {
   "cell_type": "code",
   "execution_count": 1,
   "id": "8813db53",
   "metadata": {},
   "outputs": [
    {
     "name": "stdout",
     "output_type": "stream",
     "text": [
      "[]\n",
      "[1, 4, 8, 16, 32]\n",
      "[1.0, 4.0, 8.0, 16.0, 32.0]\n",
      "['Some Words', 'Some new words']\n",
      "[2, 5.0, 'Words I need']\n"
     ]
    }
   ],
   "source": [
    "empty_list = []\n",
    "int_list = [1,4,8,16,32]\n",
    "float_list = [1.0,4.0,8.0,16.0,32.0]\n",
    "string_list = [\"Some Words\" , \"Some new words\"]\n",
    "mixed_list = [2, 5.0, \"Words I need\"]\n",
    "\n",
    "print(empty_list)\n",
    "print(int_list)\n",
    "print(float_list)\n",
    "print(string_list)\n",
    "print(mixed_list)"
   ]
  },
  {
   "cell_type": "markdown",
   "id": "e89a2342",
   "metadata": {},
   "source": [
    "Let's check the types of objects in the last list."
   ]
  },
  {
   "cell_type": "code",
   "execution_count": 2,
   "id": "d95585d6",
   "metadata": {},
   "outputs": [
    {
     "data": {
      "text/plain": [
       "list"
      ]
     },
     "execution_count": 2,
     "metadata": {},
     "output_type": "execute_result"
    }
   ],
   "source": [
    "type(mixed_list)"
   ]
  },
  {
   "cell_type": "markdown",
   "id": "97e3142e",
   "metadata": {},
   "source": [
    "To access elements in a list, you must call the index which starts from 0 and counts upward with each additional element."
   ]
  },
  {
   "cell_type": "code",
   "execution_count": 3,
   "id": "55d1dc25",
   "metadata": {},
   "outputs": [
    {
     "data": {
      "text/plain": [
       "(2, int)"
      ]
     },
     "execution_count": 3,
     "metadata": {},
     "output_type": "execute_result"
    }
   ],
   "source": [
    "mixed_list[0], type(mixed_list[0])"
   ]
  },
  {
   "cell_type": "code",
   "execution_count": 4,
   "id": "04b1fb42",
   "metadata": {},
   "outputs": [
    {
     "data": {
      "text/plain": [
       "(5.0, float)"
      ]
     },
     "execution_count": 4,
     "metadata": {},
     "output_type": "execute_result"
    }
   ],
   "source": [
    "mixed_list[1], type(mixed_list[1])"
   ]
  },
  {
   "cell_type": "code",
   "execution_count": 5,
   "id": "c7bed565",
   "metadata": {},
   "outputs": [
    {
     "data": {
      "text/plain": [
       "('Words I need', str)"
      ]
     },
     "execution_count": 5,
     "metadata": {},
     "output_type": "execute_result"
    }
   ],
   "source": [
    "mixed_list[2], type(mixed_list[2])"
   ]
  },
  {
   "cell_type": "markdown",
   "id": "e3974da0",
   "metadata": {},
   "source": [
    "## Concatenating the lists"
   ]
  },
  {
   "cell_type": "code",
   "execution_count": 6,
   "id": "74eeef9f",
   "metadata": {},
   "outputs": [
    {
     "data": {
      "text/plain": [
       "[1, 2, 4, 5, 7, 8]"
      ]
     },
     "execution_count": 6,
     "metadata": {},
     "output_type": "execute_result"
    }
   ],
   "source": [
    "list1 = [1,2,4,5,7,8]\n",
    "list2 = [3,6,9,12,15,18]\n",
    "\n",
    "join_lists = list1 + list2\n",
    "\n",
    "list1"
   ]
  },
  {
   "cell_type": "code",
   "execution_count": 7,
   "id": "89c7b003",
   "metadata": {},
   "outputs": [
    {
     "data": {
      "text/plain": [
       "[3, 6, 9, 12, 15, 18]"
      ]
     },
     "execution_count": 7,
     "metadata": {},
     "output_type": "execute_result"
    }
   ],
   "source": [
    "list2"
   ]
  },
  {
   "cell_type": "code",
   "execution_count": 8,
   "id": "a58d9a93",
   "metadata": {},
   "outputs": [
    {
     "data": {
      "text/plain": [
       "[1, 2, 4, 5, 7, 8, 3, 6, 9, 12, 15, 18]"
      ]
     },
     "execution_count": 8,
     "metadata": {},
     "output_type": "execute_result"
    }
   ],
   "source": [
    "join_lists"
   ]
  },
  {
   "cell_type": "markdown",
   "id": "3ea4baf4",
   "metadata": {},
   "source": [
    "Remember this is just like concatenating strings"
   ]
  },
  {
   "cell_type": "code",
   "execution_count": 9,
   "id": "e6b04bdf",
   "metadata": {},
   "outputs": [
    {
     "data": {
      "text/plain": [
       "'Words, maybe stringMy better string'"
      ]
     },
     "execution_count": 9,
     "metadata": {},
     "output_type": "execute_result"
    }
   ],
   "source": [
    "str1 = \"Words, maybe string\"\n",
    "str2 = \"My better string\"\n",
    "\n",
    "join_strings = str1 + str2\n",
    "join_strings"
   ]
  },
  {
   "cell_type": "code",
   "execution_count": 10,
   "id": "7c338bb8",
   "metadata": {},
   "outputs": [
    {
     "data": {
      "text/plain": [
       "'r'"
      ]
     },
     "execution_count": 10,
     "metadata": {},
     "output_type": "execute_result"
    }
   ],
   "source": [
    "join_strings[2]"
   ]
  },
  {
   "cell_type": "markdown",
   "id": "ce9ebd57",
   "metadata": {},
   "source": [
    "## List slices\n",
    "\n",
    "Suppose that you wanted to call a subset of a list or string. You can do this by using calling lst[start:end]"
   ]
  },
  {
   "cell_type": "code",
   "execution_count": 11,
   "id": "a3053f1d",
   "metadata": {},
   "outputs": [
    {
     "data": {
      "text/plain": [
       "[1, 2, 4, 5, 7, 8, 3, 6, 9, 12, 15, 18]"
      ]
     },
     "execution_count": 11,
     "metadata": {},
     "output_type": "execute_result"
    }
   ],
   "source": [
    "join_lists"
   ]
  },
  {
   "cell_type": "code",
   "execution_count": 12,
   "id": "d3104587",
   "metadata": {},
   "outputs": [
    {
     "data": {
      "text/plain": [
       "[1, 2, 4, 5, 7]"
      ]
     },
     "execution_count": 12,
     "metadata": {},
     "output_type": "execute_result"
    }
   ],
   "source": [
    "join_lists[:5]"
   ]
  },
  {
   "cell_type": "code",
   "execution_count": 13,
   "id": "130c0009",
   "metadata": {},
   "outputs": [
    {
     "data": {
      "text/plain": [
       "[1, 2, 4, 5, 7]"
      ]
     },
     "execution_count": 13,
     "metadata": {},
     "output_type": "execute_result"
    }
   ],
   "source": [
    "join_lists[0:5]"
   ]
  },
  {
   "cell_type": "code",
   "execution_count": 14,
   "id": "3746297b",
   "metadata": {},
   "outputs": [
    {
     "data": {
      "text/plain": [
       "'Words'"
      ]
     },
     "execution_count": 14,
     "metadata": {},
     "output_type": "execute_result"
    }
   ],
   "source": [
    "join_strings[:5]"
   ]
  },
  {
   "cell_type": "code",
   "execution_count": 15,
   "id": "e085dfb1",
   "metadata": {},
   "outputs": [
    {
     "data": {
      "text/plain": [
       "'Words'"
      ]
     },
     "execution_count": 15,
     "metadata": {},
     "output_type": "execute_result"
    }
   ],
   "source": [
    "join_strings[0:5]"
   ]
  },
  {
   "cell_type": "code",
   "execution_count": 16,
   "id": "1e941e4f",
   "metadata": {},
   "outputs": [
    {
     "data": {
      "text/plain": [
       "', maybe stringMy better string'"
      ]
     },
     "execution_count": 16,
     "metadata": {},
     "output_type": "execute_result"
    }
   ],
   "source": [
    "join_strings[5:]"
   ]
  },
  {
   "cell_type": "markdown",
   "id": "03b5d421",
   "metadata": {},
   "source": [
    "If you call lst[-1], it will access the last element in the list."
   ]
  },
  {
   "cell_type": "code",
   "execution_count": 17,
   "id": "55174abc",
   "metadata": {},
   "outputs": [
    {
     "data": {
      "text/plain": [
       "(18, 'g')"
      ]
     },
     "execution_count": 17,
     "metadata": {},
     "output_type": "execute_result"
    }
   ],
   "source": [
    "join_lists[-1], join_strings[-1]"
   ]
  },
  {
   "cell_type": "markdown",
   "id": "de8b08e0",
   "metadata": {},
   "source": [
    "You can count from the end of the list using the negative sign (-). If you count backword after the first colon, this will call all excpet for the last i elements for the command list[:-i]."
   ]
  },
  {
   "cell_type": "code",
   "execution_count": 18,
   "id": "d873ecad",
   "metadata": {},
   "outputs": [
    {
     "data": {
      "text/plain": [
       "([1, 2, 4, 5, 7, 8, 3, 6, 9, 12, 15], 'Words, maybe stringMy better strin')"
      ]
     },
     "execution_count": 18,
     "metadata": {},
     "output_type": "execute_result"
    }
   ],
   "source": [
    "join_lists[:-1], join_strings[:-1]"
   ]
  },
  {
   "cell_type": "code",
   "execution_count": 19,
   "id": "58fcd3b2",
   "metadata": {},
   "outputs": [
    {
     "data": {
      "text/plain": [
       "([1, 2, 4, 5, 7, 8, 3], 'Words, maybe stringMy better s')"
      ]
     },
     "execution_count": 19,
     "metadata": {},
     "output_type": "execute_result"
    }
   ],
   "source": [
    "join_lists[:-5], join_strings[:-5]"
   ]
  },
  {
   "cell_type": "markdown",
   "id": "f6960e35",
   "metadata": {},
   "source": [
    "This is a test to see if I can update a file I uploaded to GitHub. It worked!"
   ]
  },
  {
   "cell_type": "markdown",
   "id": "b03c6d4b",
   "metadata": {},
   "source": [
    "## For Loops"
   ]
  },
  {
   "cell_type": "code",
   "execution_count": 20,
   "id": "b64352fc",
   "metadata": {},
   "outputs": [
    {
     "name": "stdout",
     "output_type": "stream",
     "text": [
      "list1: [1, 2, 4, 8, 16, 32]\n",
      "list2: [64, 32, 16, 8, 4, 2]\n",
      "0 1\n",
      "1 2\n",
      "2 4\n",
      "3 8\n",
      "4 16\n",
      "5 32\n",
      "[1, 2, 4, 8, 16, 32]\n",
      "0 64\n",
      "1 32\n",
      "2 16\n",
      "3 8\n",
      "4 4\n",
      "5 2\n",
      "[1, 2, 4, 8, 16, 32, 64, 32, 16, 8, 4, 2] [1, 2, 4, 8, 16, 32, 64, 32, 16, 8, 4, 2]\n",
      "sum_list (append): [65, 34, 20, 16, 20, 34]\n",
      "sum_list (insert): [65, 34, 20, 16, 20, 34]\n"
     ]
    }
   ],
   "source": [
    "list1 = [1,2,4,8,16,32]\n",
    "list2 = [64,32,16,8,4,2]\n",
    "\n",
    "print(\"list1:\", list1)\n",
    "print(\"list2:\", list2)\n",
    "\n",
    "# Create a blank list that we will use to generate the results that we achieved using the + sign: concatenate.\n",
    "\n",
    "concat_list = []\n",
    "\n",
    "\n",
    "len_list1 = len(list1)\n",
    "len_list2 = len(list2)\n",
    "\n",
    "# First let's concatenate.\n",
    "for i in range(0, len_list1):\n",
    "    concat_list.append(list1[i])\n",
    "    print(i, list1[i])\n",
    "    \n",
    "print(concat_list)\n",
    "\n",
    "for i in range(0, len_list2):\n",
    "    print(i, list2[i])\n",
    "    concat_list.append(list2[i])\n",
    "    \n",
    "print(concat_list, list1 + list2)\n",
    "\n",
    "sum_list = []\n",
    "if len_list1 == len_list2:\n",
    "    for i in range(len_list1):\n",
    "        sum_list.append(list1[i] + list2[i])\n",
    "print(\"sum_list (append):\", sum_list)\n",
    "    \n",
    "sum_list = []\n",
    "if len_list1 == len_list2:\n",
    "    for i in range(len_list1):\n",
    "        # lst.insert(index, value)\n",
    "        sum_list.insert(i, list1[i] + list2[i]) \n",
    "print(\"sum_list (insert):\", sum_list)"
   ]
  },
  {
   "cell_type": "code",
   "execution_count": 21,
   "id": "74d87863",
   "metadata": {},
   "outputs": [
    {
     "data": {
      "text/plain": [
       "True"
      ]
     },
     "execution_count": 21,
     "metadata": {},
     "output_type": "execute_result"
    }
   ],
   "source": [
    "1 == 1"
   ]
  },
  {
   "cell_type": "code",
   "execution_count": 22,
   "id": "86ae1619",
   "metadata": {},
   "outputs": [
    {
     "data": {
      "text/plain": [
       "False"
      ]
     },
     "execution_count": 22,
     "metadata": {},
     "output_type": "execute_result"
    }
   ],
   "source": [
    "1 != 1 # =/="
   ]
  },
  {
   "cell_type": "code",
   "execution_count": 23,
   "id": "e8b4cd3a",
   "metadata": {},
   "outputs": [
    {
     "name": "stdout",
     "output_type": "stream",
     "text": [
      "The Statement is True\n"
     ]
    }
   ],
   "source": [
    "if 1 == 1:\n",
    "    print(\"The Statement is\", 1 ==1)"
   ]
  },
  {
   "cell_type": "code",
   "execution_count": 24,
   "id": "123d9a3a",
   "metadata": {},
   "outputs": [
    {
     "name": "stdout",
     "output_type": "stream",
     "text": [
      "i == 0 i < 5: True\n",
      "i == 1 i < 5: True\n",
      "i == 2 i < 5: True\n",
      "i == 3 i < 5: True\n",
      "i == 4 i < 5: True\n",
      "i == 5 i < 5: False\n",
      "i == 6 i < 5: False\n",
      "i == 7 i < 5: False\n",
      "i == 8 i < 5: False\n",
      "i == 9 i < 5: False\n"
     ]
    }
   ],
   "source": [
    "for i in range(10):\n",
    "    print(\"i ==\", i, \"i < 5:\", i < 5)"
   ]
  },
  {
   "cell_type": "code",
   "execution_count": 25,
   "id": "b9f6e352",
   "metadata": {},
   "outputs": [
    {
     "name": "stdout",
     "output_type": "stream",
     "text": [
      "['3', '6', '9', '12', '15', '18']\n",
      "['black', 'blue', 'yellow', 'white', 'green', 'red']\n"
     ]
    },
    {
     "data": {
      "text/plain": [
       "(['9', '6', '3', '18', '15', '12'], ['black', 'green', 'white'])"
      ]
     },
     "execution_count": 25,
     "metadata": {},
     "output_type": "execute_result"
    }
   ],
   "source": [
    "list1 = [\"3\",\n",
    "         \"6\",\n",
    "         \"9\",\n",
    "         \"12\",\n",
    "         \"15\",\n",
    "         \"18\"]\n",
    "\n",
    "list2 = [\"black\",\n",
    "        \"blue\",\n",
    "        \"yellow\",\n",
    "        \"white\",\n",
    "        \"green\",\n",
    "        \"red\"]\n",
    "\n",
    "print(list1)\n",
    "print(list2)\n",
    "\n",
    "sorted_list1 = sorted(list1) # reverse = TRUE\n",
    "sorted_list2 = sorted(list2)\n",
    "\n",
    "sorted_list1[::-1], sorted_list2[::2]"
   ]
  },
  {
   "cell_type": "code",
   "execution_count": 26,
   "id": "0f899908",
   "metadata": {},
   "outputs": [
    {
     "name": "stdout",
     "output_type": "stream",
     "text": [
      "TypeError: unorderable types: str < int\n",
      "['1', '22', '3', '23', '5']\n",
      "[1, 22, 3, 23, 5]\n"
     ]
    },
    {
     "data": {
      "text/plain": [
       "(['1', '22', '23', '3', '5'], [1, 3, 5, 22, 23])"
      ]
     },
     "execution_count": 26,
     "metadata": {},
     "output_type": "execute_result"
    }
   ],
   "source": [
    "list3 = [\"1\", 22, \"3\" ,23, \"5\"]\n",
    "try:\n",
    "    sorted_list3 = sorted(list3)\n",
    "except:\n",
    "    print(\"TypeError: unorderable types: str < int\")\n",
    "\n",
    "# a generator function creates list using for loop within the list created    \n",
    "alpha_list3 = [str(val) for val in list3]\n",
    "\n",
    "num_list3 = []\n",
    "for val in list3:\n",
    "    num_list3.append(int(val))\n",
    "print(alpha_list3)\n",
    "print(num_list3)\n",
    "sorted(alpha_list3), sorted(num_list3)"
   ]
  },
  {
   "cell_type": "markdown",
   "id": "79e67f39",
   "metadata": {},
   "source": [
    "You can nest loops, menaing that you can add a loop in a loop."
   ]
  },
  {
   "cell_type": "code",
   "execution_count": 27,
   "id": "59fc04ae",
   "metadata": {
    "scrolled": false
   },
   "outputs": [
    {
     "name": "stdout",
     "output_type": "stream",
     "text": [
      "i j k l\n",
      "0 0 0 0\n",
      "0 0 0 1\n",
      "0 0 0 2\n",
      "0 0 0 3\n",
      "0 0 0 4\n",
      "0 0 0 5\n",
      "0 0 1 0\n",
      "0 0 1 1\n",
      "0 0 1 2\n",
      "0 0 1 3\n",
      "0 0 1 4\n",
      "0 0 1 5\n",
      "0 0 2 0\n",
      "0 0 2 1\n",
      "0 0 2 2\n",
      "0 0 2 3\n",
      "0 0 2 4\n",
      "0 0 2 5\n",
      "0 0 3 0\n",
      "0 0 3 1\n",
      "0 0 3 2\n",
      "0 0 3 3\n",
      "0 0 3 4\n",
      "0 0 3 5\n",
      "0 1 0 0\n",
      "0 1 0 1\n",
      "0 1 0 2\n",
      "0 1 0 3\n",
      "0 1 0 4\n",
      "0 1 0 5\n",
      "0 1 1 0\n",
      "0 1 1 1\n",
      "0 1 1 2\n",
      "0 1 1 3\n",
      "0 1 1 4\n",
      "0 1 1 5\n",
      "0 1 2 0\n",
      "0 1 2 1\n",
      "0 1 2 2\n",
      "0 1 2 3\n",
      "0 1 2 4\n",
      "0 1 2 5\n",
      "0 1 3 0\n",
      "0 1 3 1\n",
      "0 1 3 2\n",
      "0 1 3 3\n",
      "0 1 3 4\n",
      "0 1 3 5\n",
      "0 2 0 0\n",
      "0 2 0 1\n",
      "0 2 0 2\n",
      "0 2 0 3\n",
      "0 2 0 4\n",
      "0 2 0 5\n",
      "0 2 1 0\n",
      "0 2 1 1\n",
      "0 2 1 2\n",
      "0 2 1 3\n",
      "0 2 1 4\n",
      "0 2 1 5\n",
      "0 2 2 0\n",
      "0 2 2 1\n",
      "0 2 2 2\n",
      "0 2 2 3\n",
      "0 2 2 4\n",
      "0 2 2 5\n",
      "0 2 3 0\n",
      "0 2 3 1\n",
      "0 2 3 2\n",
      "0 2 3 3\n",
      "0 2 3 4\n",
      "0 2 3 5\n",
      "0 3 0 0\n",
      "0 3 0 1\n",
      "0 3 0 2\n",
      "0 3 0 3\n",
      "0 3 0 4\n",
      "0 3 0 5\n",
      "0 3 1 0\n",
      "0 3 1 1\n",
      "0 3 1 2\n",
      "0 3 1 3\n",
      "0 3 1 4\n",
      "0 3 1 5\n",
      "0 3 2 0\n",
      "0 3 2 1\n",
      "0 3 2 2\n",
      "0 3 2 3\n",
      "0 3 2 4\n",
      "0 3 2 5\n",
      "0 3 3 0\n",
      "0 3 3 1\n",
      "0 3 3 2\n",
      "0 3 3 3\n",
      "0 3 3 4\n",
      "0 3 3 5\n",
      "0 4 0 0\n",
      "0 4 0 1\n",
      "0 4 0 2\n",
      "0 4 0 3\n",
      "0 4 0 4\n",
      "0 4 0 5\n",
      "0 4 1 0\n",
      "0 4 1 1\n",
      "0 4 1 2\n",
      "0 4 1 3\n",
      "0 4 1 4\n",
      "0 4 1 5\n",
      "0 4 2 0\n",
      "0 4 2 1\n",
      "0 4 2 2\n",
      "0 4 2 3\n",
      "0 4 2 4\n",
      "0 4 2 5\n",
      "0 4 3 0\n",
      "0 4 3 1\n",
      "0 4 3 2\n",
      "0 4 3 3\n",
      "0 4 3 4\n",
      "0 4 3 5\n",
      "1 0 0 0\n",
      "1 0 0 1\n",
      "1 0 0 2\n",
      "1 0 0 3\n",
      "1 0 0 4\n",
      "1 0 0 5\n",
      "1 0 1 0\n",
      "1 0 1 1\n",
      "1 0 1 2\n",
      "1 0 1 3\n",
      "1 0 1 4\n",
      "1 0 1 5\n",
      "1 0 2 0\n",
      "1 0 2 1\n",
      "1 0 2 2\n",
      "1 0 2 3\n",
      "1 0 2 4\n",
      "1 0 2 5\n",
      "1 0 3 0\n",
      "1 0 3 1\n",
      "1 0 3 2\n",
      "1 0 3 3\n",
      "1 0 3 4\n",
      "1 0 3 5\n",
      "1 1 0 0\n",
      "1 1 0 1\n",
      "1 1 0 2\n",
      "1 1 0 3\n",
      "1 1 0 4\n",
      "1 1 0 5\n",
      "1 1 1 0\n",
      "1 1 1 1\n",
      "1 1 1 2\n",
      "1 1 1 3\n",
      "1 1 1 4\n",
      "1 1 1 5\n",
      "1 1 2 0\n",
      "1 1 2 1\n",
      "1 1 2 2\n",
      "1 1 2 3\n",
      "1 1 2 4\n",
      "1 1 2 5\n",
      "1 1 3 0\n",
      "1 1 3 1\n",
      "1 1 3 2\n",
      "1 1 3 3\n",
      "1 1 3 4\n",
      "1 1 3 5\n",
      "1 2 0 0\n",
      "1 2 0 1\n",
      "1 2 0 2\n",
      "1 2 0 3\n",
      "1 2 0 4\n",
      "1 2 0 5\n",
      "1 2 1 0\n",
      "1 2 1 1\n",
      "1 2 1 2\n",
      "1 2 1 3\n",
      "1 2 1 4\n",
      "1 2 1 5\n",
      "1 2 2 0\n",
      "1 2 2 1\n",
      "1 2 2 2\n",
      "1 2 2 3\n",
      "1 2 2 4\n",
      "1 2 2 5\n",
      "1 2 3 0\n",
      "1 2 3 1\n",
      "1 2 3 2\n",
      "1 2 3 3\n",
      "1 2 3 4\n",
      "1 2 3 5\n",
      "1 3 0 0\n",
      "1 3 0 1\n",
      "1 3 0 2\n",
      "1 3 0 3\n",
      "1 3 0 4\n",
      "1 3 0 5\n",
      "1 3 1 0\n",
      "1 3 1 1\n",
      "1 3 1 2\n",
      "1 3 1 3\n",
      "1 3 1 4\n",
      "1 3 1 5\n",
      "1 3 2 0\n",
      "1 3 2 1\n",
      "1 3 2 2\n",
      "1 3 2 3\n",
      "1 3 2 4\n",
      "1 3 2 5\n",
      "1 3 3 0\n",
      "1 3 3 1\n",
      "1 3 3 2\n",
      "1 3 3 3\n",
      "1 3 3 4\n",
      "1 3 3 5\n",
      "1 4 0 0\n",
      "1 4 0 1\n",
      "1 4 0 2\n",
      "1 4 0 3\n",
      "1 4 0 4\n",
      "1 4 0 5\n",
      "1 4 1 0\n",
      "1 4 1 1\n",
      "1 4 1 2\n",
      "1 4 1 3\n",
      "1 4 1 4\n",
      "1 4 1 5\n",
      "1 4 2 0\n",
      "1 4 2 1\n",
      "1 4 2 2\n",
      "1 4 2 3\n",
      "1 4 2 4\n",
      "1 4 2 5\n",
      "1 4 3 0\n",
      "1 4 3 1\n",
      "1 4 3 2\n",
      "1 4 3 3\n",
      "1 4 3 4\n",
      "1 4 3 5\n",
      "2 0 0 0\n",
      "2 0 0 1\n",
      "2 0 0 2\n",
      "2 0 0 3\n",
      "2 0 0 4\n",
      "2 0 0 5\n",
      "2 0 1 0\n",
      "2 0 1 1\n",
      "2 0 1 2\n",
      "2 0 1 3\n",
      "2 0 1 4\n",
      "2 0 1 5\n",
      "2 0 2 0\n",
      "2 0 2 1\n",
      "2 0 2 2\n",
      "2 0 2 3\n",
      "2 0 2 4\n",
      "2 0 2 5\n",
      "2 0 3 0\n",
      "2 0 3 1\n",
      "2 0 3 2\n",
      "2 0 3 3\n",
      "2 0 3 4\n",
      "2 0 3 5\n",
      "2 1 0 0\n",
      "2 1 0 1\n",
      "2 1 0 2\n",
      "2 1 0 3\n",
      "2 1 0 4\n",
      "2 1 0 5\n",
      "2 1 1 0\n",
      "2 1 1 1\n",
      "2 1 1 2\n",
      "2 1 1 3\n",
      "2 1 1 4\n",
      "2 1 1 5\n",
      "2 1 2 0\n",
      "2 1 2 1\n",
      "2 1 2 2\n",
      "2 1 2 3\n",
      "2 1 2 4\n",
      "2 1 2 5\n",
      "2 1 3 0\n",
      "2 1 3 1\n",
      "2 1 3 2\n",
      "2 1 3 3\n",
      "2 1 3 4\n",
      "2 1 3 5\n",
      "2 2 0 0\n",
      "2 2 0 1\n",
      "2 2 0 2\n",
      "2 2 0 3\n",
      "2 2 0 4\n",
      "2 2 0 5\n",
      "2 2 1 0\n",
      "2 2 1 1\n",
      "2 2 1 2\n",
      "2 2 1 3\n",
      "2 2 1 4\n",
      "2 2 1 5\n",
      "2 2 2 0\n",
      "2 2 2 1\n",
      "2 2 2 2\n",
      "2 2 2 3\n",
      "2 2 2 4\n",
      "2 2 2 5\n",
      "2 2 3 0\n",
      "2 2 3 1\n",
      "2 2 3 2\n",
      "2 2 3 3\n",
      "2 2 3 4\n",
      "2 2 3 5\n",
      "2 3 0 0\n",
      "2 3 0 1\n",
      "2 3 0 2\n",
      "2 3 0 3\n",
      "2 3 0 4\n",
      "2 3 0 5\n",
      "2 3 1 0\n",
      "2 3 1 1\n",
      "2 3 1 2\n",
      "2 3 1 3\n",
      "2 3 1 4\n",
      "2 3 1 5\n",
      "2 3 2 0\n",
      "2 3 2 1\n",
      "2 3 2 2\n",
      "2 3 2 3\n",
      "2 3 2 4\n",
      "2 3 2 5\n",
      "2 3 3 0\n",
      "2 3 3 1\n",
      "2 3 3 2\n",
      "2 3 3 3\n",
      "2 3 3 4\n",
      "2 3 3 5\n",
      "2 4 0 0\n",
      "2 4 0 1\n",
      "2 4 0 2\n",
      "2 4 0 3\n",
      "2 4 0 4\n",
      "2 4 0 5\n",
      "2 4 1 0\n",
      "2 4 1 1\n",
      "2 4 1 2\n",
      "2 4 1 3\n",
      "2 4 1 4\n",
      "2 4 1 5\n",
      "2 4 2 0\n",
      "2 4 2 1\n",
      "2 4 2 2\n",
      "2 4 2 3\n",
      "2 4 2 4\n",
      "2 4 2 5\n",
      "2 4 3 0\n",
      "2 4 3 1\n",
      "2 4 3 2\n",
      "2 4 3 3\n",
      "2 4 3 4\n",
      "2 4 3 5\n",
      "[0, 1, 2]\n",
      "[0, 1, 2, 3, 4]\n",
      "[0, 1, 2, 3]\n",
      "[0, 1, 2, 3, 4, 5]\n"
     ]
    }
   ],
   "source": [
    "print(\"i\", \"j\", \"k\", \"l\")\n",
    "i_list = list(range(3))\n",
    "j_list = list(range(5))\n",
    "k_list = list(range(4))\n",
    "l_list = list(range(6))\n",
    "for i in range(3):\n",
    "    for j in range(5):\n",
    "        for k in range(4):\n",
    "            for l in range(6):\n",
    "                print(i, j, k, l)\n",
    "print(i_list, j_list, k_list, l_list, sep = \"\\n\")"
   ]
  }
 ],
 "metadata": {
  "kernelspec": {
   "display_name": "Python 3",
   "language": "python",
   "name": "python3"
  },
  "language_info": {
   "codemirror_mode": {
    "name": "ipython",
    "version": 3
   },
   "file_extension": ".py",
   "mimetype": "text/x-python",
   "name": "python",
   "nbconvert_exporter": "python",
   "pygments_lexer": "ipython3",
   "version": "3.8.8"
  }
 },
 "nbformat": 4,
 "nbformat_minor": 5
}
