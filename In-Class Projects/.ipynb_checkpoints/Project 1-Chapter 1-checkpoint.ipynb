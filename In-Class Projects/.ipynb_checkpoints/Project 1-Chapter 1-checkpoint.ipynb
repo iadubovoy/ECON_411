{
 "cells": [
  {
   "cell_type": "markdown",
   "id": "c8a247cc",
   "metadata": {},
   "source": [
    "# Project 1 - Chapter 1 - Essentials"
   ]
  },
  {
   "cell_type": "code",
   "execution_count": 1,
   "id": "797fbbf1",
   "metadata": {},
   "outputs": [
    {
     "name": "stdout",
     "output_type": "stream",
     "text": [
      "Hello World\n"
     ]
    }
   ],
   "source": [
    "print(\"Hello World\")"
   ]
  },
  {
   "cell_type": "markdown",
   "id": "bf330bd9",
   "metadata": {},
   "source": [
    "We just used the print function. Print will print whatever object is passed to it. We passed the string, “Hello World!”, and it printed after the code.\n",
    "\n",
    "# Introduction to Jupyter\n",
    "\n",
    "This is the first program that I have written in ECON 411/611. Next, we will start working string variables."
   ]
  },
  {
   "cell_type": "code",
   "execution_count": 2,
   "id": "e80c0470",
   "metadata": {},
   "outputs": [
    {
     "name": "stdout",
     "output_type": "stream",
     "text": [
      "john nash\n"
     ]
    }
   ],
   "source": [
    "msg = \"john nash\"\n",
    "print(msg)"
   ]
  },
  {
   "cell_type": "markdown",
   "id": "0746220c",
   "metadata": {},
   "source": [
    "Next, you're going to use the string methods to capitalize different letters.\n",
    "\n",
    "The method *.upper()* will make the strings all caps, *.title()* will capitalize the first letters of each string.\n"
   ]
  },
  {
   "cell_type": "code",
   "execution_count": 3,
   "id": "aa1bc0e4",
   "metadata": {},
   "outputs": [
    {
     "name": "stdout",
     "output_type": "stream",
     "text": [
      "JOHN NASH\n",
      "John Nash\n"
     ]
    }
   ],
   "source": [
    "print(msg.upper())\n",
    "print(msg.title()) "
   ]
  },
  {
   "cell_type": "markdown",
   "id": "8eede66f",
   "metadata": {},
   "source": [
    "## String Concatenation \n",
    "\n",
    "You can concatenate strings using the “+” sign, that means you can join them in order to create a single aggregate string."
   ]
  },
  {
   "cell_type": "code",
   "execution_count": 4,
   "id": "6f8cb0f0",
   "metadata": {},
   "outputs": [
    {
     "name": "stdout",
     "output_type": "stream",
     "text": [
      "This class should be fun\n",
      "This class should be fun\n",
      "This class should be fun\n",
      "This class should be fun\n"
     ]
    }
   ],
   "source": [
    "line1 = \"This class should be fun\"\n",
    "line2 = \"I am looking forward to it.\"\n",
    "line3 = \"I know a little bit of programming.\"\n",
    "line4 = \"But there still is a long ways for me to go.\"\n",
    "\n",
    "print(line1)\n",
    "print(line1)\n",
    "print(line1)\n",
    "print(line1)"
   ]
  },
  {
   "cell_type": "code",
   "execution_count": 5,
   "id": "73275f72",
   "metadata": {},
   "outputs": [
    {
     "name": "stdout",
     "output_type": "stream",
     "text": [
      "This class should be funI am looking forward to it.I know a little bit of programming.But there still is a long ways for me to go.\n"
     ]
    }
   ],
   "source": [
    "concat_strings = line1+line2+line3+line4\n",
    "print(concat_strings)"
   ]
  },
  {
   "cell_type": "markdown",
   "id": "c3ba1f27",
   "metadata": {},
   "source": [
    "The *sep* emotion in *print()* allows you to determine the character that will be printed in lieu of each comma."
   ]
  },
  {
   "cell_type": "code",
   "execution_count": 6,
   "id": "6abc9d2c",
   "metadata": {},
   "outputs": [
    {
     "name": "stdout",
     "output_type": "stream",
     "text": [
      "This class should be fun\n",
      "I am looking forward to it.\n",
      "I know a little bit of programming.\n",
      "But there still is a long ways for me to go.\n"
     ]
    }
   ],
   "source": [
    "print(line1,line2,line3,line4, sep = \"\\n\")"
   ]
  },
  {
   "cell_type": "markdown",
   "id": "9b8f144f",
   "metadata": {},
   "source": [
    "By using the option, sep = \"\\n\", each comma is interpretted as a new line. This would be the same as adding \"\\n\" to every line."
   ]
  },
  {
   "cell_type": "code",
   "execution_count": 7,
   "id": "3fbe3e1a",
   "metadata": {},
   "outputs": [
    {
     "name": "stdout",
     "output_type": "stream",
     "text": [
      "This class should be fun\n",
      "I am looking forward to it.\n",
      "I know a little bit of programming.\n",
      "But there still is a long ways for me to go.\n",
      "\n"
     ]
    }
   ],
   "source": [
    "print(line1+\"\\n\", line2 + \"\\n\", line3 + \"\\n\", line4 + \"\\n\", sep = \"\")"
   ]
  },
  {
   "cell_type": "code",
   "execution_count": null,
   "id": "d5e6118d",
   "metadata": {},
   "outputs": [],
   "source": []
  },
  {
   "cell_type": "markdown",
   "id": "b760e526",
   "metadata": {},
   "source": [
    "# Using .strip() and .replace() "
   ]
  },
  {
   "cell_type": "code",
   "execution_count": 8,
   "id": "5ac8eacc",
   "metadata": {},
   "outputs": [
    {
     "name": "stdout",
     "output_type": "stream",
     "text": [
      "no spaces removed:\n",
      "     Look at the space in the text!       \n",
      "Remove left spaces:\n",
      "Look at the space in the text!       \n",
      "Remove right spaces:\n",
      "     Look at the space in the text!\n",
      "Remove left and right spaces:\n",
      "Look at the space in the text!\n",
      "Remove all spaces: Lookatthespaceinthetext!\n",
      "Capitalize all first letters: Look At The Space In The Text!       \n"
     ]
    }
   ],
   "source": [
    "spaces = \"     Look at the space in the text!       \"\n",
    "print(\"no spaces removed:\", spaces, sep = \"\\n\")\n",
    "\n",
    "remove_left_spaces = spaces.lstrip()\n",
    "remove_right_spaces = spaces.rstrip()\n",
    "remove_left_and_right_spaces = spaces.strip()\n",
    "remove_all_spaces = spaces.replace(\" \",\"\")\n",
    "\n",
    "print(\"Remove left spaces:\\n\" + remove_left_spaces)\n",
    "print(\"Remove right spaces:\\n\" + remove_right_spaces)\n",
    "print(\"Remove left and right spaces:\\n\" + remove_left_and_right_spaces)\n",
    "print(\"Remove all spaces:\", remove_all_spaces)\n",
    "\n",
    "print(\"Capitalize all first letters:\", remove_left_spaces.title())"
   ]
  },
  {
   "cell_type": "markdown",
   "id": "0c5154bb",
   "metadata": {},
   "source": [
    "# Working with Values"
   ]
  },
  {
   "cell_type": "code",
   "execution_count": 9,
   "id": "3f10f5ab",
   "metadata": {},
   "outputs": [
    {
     "name": "stdout",
     "output_type": "stream",
     "text": [
      "num1: 8 \n",
      "numls: 53\n"
     ]
    }
   ],
   "source": [
    "num1 = 5 + 3\n",
    "num1s = \"5\" + \"3\"\n",
    "\n",
    "print(\"num1:\", num1, \"\\nnumls:\", num1s)"
   ]
  },
  {
   "cell_type": "code",
   "execution_count": 10,
   "id": "b4856964",
   "metadata": {},
   "outputs": [
    {
     "name": "stdout",
     "output_type": "stream",
     "text": [
      "num1: 1.6666666666666667\n",
      "num2: 1.25\n",
      "num3: 1.3333333333333333\n"
     ]
    }
   ],
   "source": [
    "num1 = 5/3\n",
    "num2 = 5 / 4\n",
    "num3 = 4 / 3\n",
    "\n",
    "print(\"num1:\", num1)\n",
    "print(\"num2:\", num2)\n",
    "print(\"num3:\", num3)"
   ]
  },
  {
   "cell_type": "markdown",
   "id": "6e26e3bd",
   "metadata": {},
   "source": [
    "Python will automatically transform int values if the output from the the int generates a float..."
   ]
  },
  {
   "cell_type": "code",
   "execution_count": 11,
   "id": "86ecd0ac",
   "metadata": {},
   "outputs": [
    {
     "data": {
      "text/plain": [
       "float"
      ]
     },
     "execution_count": 11,
     "metadata": {},
     "output_type": "execute_result"
    }
   ],
   "source": [
    "type(num1)"
   ]
  },
  {
   "cell_type": "code",
   "execution_count": 12,
   "id": "bc039a22",
   "metadata": {},
   "outputs": [
    {
     "data": {
      "text/plain": [
       "int"
      ]
     },
     "execution_count": 12,
     "metadata": {},
     "output_type": "execute_result"
    }
   ],
   "source": [
    "type(3)"
   ]
  },
  {
   "cell_type": "code",
   "execution_count": 13,
   "id": "fc2575c1",
   "metadata": {},
   "outputs": [
    {
     "data": {
      "text/plain": [
       "3.0"
      ]
     },
     "execution_count": 13,
     "metadata": {},
     "output_type": "execute_result"
    }
   ],
   "source": [
    "float (3)"
   ]
  },
  {
   "cell_type": "code",
   "execution_count": 14,
   "id": "0133c362",
   "metadata": {},
   "outputs": [
    {
     "data": {
      "text/plain": [
       "float"
      ]
     },
     "execution_count": 14,
     "metadata": {},
     "output_type": "execute_result"
    }
   ],
   "source": [
    "type(1.5)"
   ]
  },
  {
   "cell_type": "code",
   "execution_count": 15,
   "id": "66184e61",
   "metadata": {},
   "outputs": [
    {
     "data": {
      "text/plain": [
       "4.5"
      ]
     },
     "execution_count": 15,
     "metadata": {},
     "output_type": "execute_result"
    }
   ],
   "source": [
    "3 + 1.5"
   ]
  },
  {
   "cell_type": "code",
   "execution_count": 16,
   "id": "bee4dbef",
   "metadata": {},
   "outputs": [
    {
     "data": {
      "text/plain": [
       "float"
      ]
     },
     "execution_count": 16,
     "metadata": {},
     "output_type": "execute_result"
    }
   ],
   "source": [
    "type(3 +1.5)"
   ]
  },
  {
   "cell_type": "markdown",
   "id": "4e75ec92",
   "metadata": {},
   "source": [
    "The *import* command is used to import a module. "
   ]
  },
  {
   "cell_type": "code",
   "execution_count": 19,
   "id": "0f57c15b",
   "metadata": {},
   "outputs": [
    {
     "data": {
      "text/plain": [
       "sys.float_info(max=1.7976931348623157e+308, max_exp=1024, max_10_exp=308, min=2.2250738585072014e-308, min_exp=-1021, min_10_exp=-307, dig=15, mant_dig=53, epsilon=2.220446049250313e-16, radix=2, rounds=1)"
      ]
     },
     "execution_count": 19,
     "metadata": {},
     "output_type": "execute_result"
    }
   ],
   "source": [
    "import sys\n",
    "sys.float_info"
   ]
  },
  {
   "cell_type": "code",
   "execution_count": 22,
   "id": "c7042f02",
   "metadata": {},
   "outputs": [
    {
     "data": {
      "text/plain": [
       "8.98846567431158e+307"
      ]
     },
     "execution_count": 22,
     "metadata": {},
     "output_type": "execute_result"
    }
   ],
   "source": [
    "2. ** 1023"
   ]
  },
  {
   "cell_type": "code",
   "execution_count": 21,
   "id": "57882aea",
   "metadata": {},
   "outputs": [
    {
     "ename": "OverflowError",
     "evalue": "(34, 'Result too large')",
     "output_type": "error",
     "traceback": [
      "\u001b[0;31m---------------------------------------------------------------------------\u001b[0m",
      "\u001b[0;31mOverflowError\u001b[0m                             Traceback (most recent call last)",
      "\u001b[0;32m<ipython-input-21-b5418d78437f>\u001b[0m in \u001b[0;36m<module>\u001b[0;34m\u001b[0m\n\u001b[0;32m----> 1\u001b[0;31m \u001b[0;36m2.\u001b[0m \u001b[0;34m**\u001b[0m \u001b[0;36m1024\u001b[0m\u001b[0;34m\u001b[0m\u001b[0;34m\u001b[0m\u001b[0m\n\u001b[0m",
      "\u001b[0;31mOverflowError\u001b[0m: (34, 'Result too large')"
     ]
    }
   ],
   "source": [
    "2. ** 1024"
   ]
  }
 ],
 "metadata": {
  "kernelspec": {
   "display_name": "Python 3",
   "language": "python",
   "name": "python3"
  },
  "language_info": {
   "codemirror_mode": {
    "name": "ipython",
    "version": 3
   },
   "file_extension": ".py",
   "mimetype": "text/x-python",
   "name": "python",
   "nbconvert_exporter": "python",
   "pygments_lexer": "ipython3",
   "version": "3.8.8"
  }
 },
 "nbformat": 4,
 "nbformat_minor": 5
}
