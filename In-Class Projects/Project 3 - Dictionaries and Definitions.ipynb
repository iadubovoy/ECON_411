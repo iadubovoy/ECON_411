{
 "cells": [
  {
   "cell_type": "markdown",
   "id": "589d95f7",
   "metadata": {},
   "source": [
    "# Dictionaries and DataFrames\n",
    "\n",
    "\n",
    "Today we are going to build dictionaries. Disctionaries are datastructures that do not assume as index value for the data stored in the structures.\n",
    "\n",
    "Dictionaries take the genreal form:\n",
    "> my_dictionary = {key:obj} \n",
    "\n",
    "To call the object that is linked to the key.\n",
    "> my_dictionary[key] will output the object, obj."
   ]
  },
  {
   "cell_type": "code",
   "execution_count": 1,
   "id": "3ec9bdfe",
   "metadata": {},
   "outputs": [
    {
     "data": {
      "text/plain": [
       "{}"
      ]
     },
     "execution_count": 1,
     "metadata": {},
     "output_type": "execute_result"
    }
   ],
   "source": [
    "dct = {}\n",
    "dct"
   ]
  },
  {
   "cell_type": "code",
   "execution_count": 2,
   "id": "61d3d0ab",
   "metadata": {},
   "outputs": [
    {
     "data": {
      "text/plain": [
       "{'run': 'to move very quickly', 'walk': 'to move at a slow pace'}"
      ]
     },
     "execution_count": 2,
     "metadata": {},
     "output_type": "execute_result"
    }
   ],
   "source": [
    "dct = {\"run\":  \"to move very quickly\",\n",
    "       \"walk\": \"to move at a slow pace\"}\n",
    "dct"
   ]
  },
  {
   "cell_type": "code",
   "execution_count": 3,
   "id": "862b462f",
   "metadata": {},
   "outputs": [
    {
     "data": {
      "text/plain": [
       "{'run': {}, 'walk': {}}"
      ]
     },
     "execution_count": 3,
     "metadata": {},
     "output_type": "execute_result"
    }
   ],
   "source": [
    "dct = {\"run\":{},\n",
    "      \"walk\":{}}\n",
    "\n",
    "dct"
   ]
  },
  {
   "cell_type": "code",
   "execution_count": 4,
   "id": "9066b76c",
   "metadata": {},
   "outputs": [
    {
     "data": {
      "text/plain": [
       "{'run': {'verb': 'to move very quickly',\n",
       "  'noun': 'A period of time where one goes on a run'},\n",
       " 'walk': {'verb': 'to move at a slow pace',\n",
       "  'noun': 'A period of time where one goes for a walk'}}"
      ]
     },
     "execution_count": 4,
     "metadata": {},
     "output_type": "execute_result"
    }
   ],
   "source": [
    "dct = {\"run\":{\n",
    "      \"verb\":\"to move very quickly\",\n",
    "      \"noun\":\"A period of time where one goes on a run\"},\n",
    "       \"walk\":{\n",
    "       \"verb\":\"to move at a slow pace\",\n",
    "       \"noun\":\"A period of time where one goes for a walk\"}\n",
    "       }\n",
    "dct"
   ]
  },
  {
   "cell_type": "code",
   "execution_count": 5,
   "id": "60342e5e",
   "metadata": {},
   "outputs": [
    {
     "data": {
      "text/html": [
       "<div>\n",
       "<style scoped>\n",
       "    .dataframe tbody tr th:only-of-type {\n",
       "        vertical-align: middle;\n",
       "    }\n",
       "\n",
       "    .dataframe tbody tr th {\n",
       "        vertical-align: top;\n",
       "    }\n",
       "\n",
       "    .dataframe thead th {\n",
       "        text-align: right;\n",
       "    }\n",
       "</style>\n",
       "<table border=\"1\" class=\"dataframe\">\n",
       "  <thead>\n",
       "    <tr style=\"text-align: right;\">\n",
       "      <th></th>\n",
       "      <th>run</th>\n",
       "      <th>walk</th>\n",
       "    </tr>\n",
       "  </thead>\n",
       "  <tbody>\n",
       "    <tr>\n",
       "      <th>verb</th>\n",
       "      <td>to move very quickly</td>\n",
       "      <td>to move at a slow pace</td>\n",
       "    </tr>\n",
       "    <tr>\n",
       "      <th>noun</th>\n",
       "      <td>A period of time where one goes on a run</td>\n",
       "      <td>A period of time where one goes for a walk</td>\n",
       "    </tr>\n",
       "  </tbody>\n",
       "</table>\n",
       "</div>"
      ],
      "text/plain": [
       "                                           run  \\\n",
       "verb                      to move very quickly   \n",
       "noun  A period of time where one goes on a run   \n",
       "\n",
       "                                            walk  \n",
       "verb                      to move at a slow pace  \n",
       "noun  A period of time where one goes for a walk  "
      ]
     },
     "execution_count": 5,
     "metadata": {},
     "output_type": "execute_result"
    }
   ],
   "source": [
    "import pandas as pd\n",
    "df = pd.DataFrame(dct)\n",
    "df"
   ]
  },
  {
   "cell_type": "code",
   "execution_count": 6,
   "id": "f1f63fa5",
   "metadata": {},
   "outputs": [],
   "source": [
    "dct = {\"Caden\":{\"Age\":19,\n",
    "                \"Interesting Fact\":\"Played Hockey\"},\n",
    "      \"Jacob P\":{\"Age\":21,\n",
    "                \"Interesting Fact\":\"Dr. Caton made a mistake\"},\n",
    "      \"Finnian\":{\"Age\":21,\n",
    "                \"Interesting Fact\":\"Wresled in High School\"},\n",
    "      \"Genesis\":{\"Age\":20,\n",
    "                \"Interesting Fact\":\"Torn both ACLs\"},\n",
    "      \"Sam\":{\"Age\":23,\n",
    "                \"Interesting Fact\":\"Favorite color is beige\"},\n",
    "      \"Proma\":{\"Age\":24,\n",
    "                \"Interesting Fact\":\"Can classical dance\"},\n",
    "      \"Zach\":{\"Age\":20,\n",
    "                \"Interesting Fact\":\"Track and Field\"},\n",
    "      \"Jacob R\":{\"Age\":20,\n",
    "                \"Interesting Fact\":\"Plays the guitar\"},\n",
    "      \"Brandon\":{\"Age\":23,\n",
    "                \"Interesting Fact\":\"Plays baseball\"},\n",
    "      \"Gabe\":{\"Age\":23,\n",
    "                \"Interesting Fact\":\"Was a double major\"},\n",
    "      \"Drew\":{\"Age\":49,\n",
    "                \"Interesting Fact\":\"Air force veteran\"},\n",
    "      \"Isaac\":{\"Age\":21,\n",
    "                \"Interesting Fact\":\"Traveling to Europe next summer\"},\n",
    "      \"Kodjo\":{\"Age\":30,\n",
    "                \"Interesting Fact\":\"wife is a soldier\"}}"
   ]
  },
  {
   "cell_type": "code",
   "execution_count": 7,
   "id": "c8926bc5",
   "metadata": {},
   "outputs": [
    {
     "data": {
      "text/plain": [
       "run       to move very quickly\n",
       "walk    to move at a slow pace\n",
       "Name: verb, dtype: object"
      ]
     },
     "execution_count": 7,
     "metadata": {},
     "output_type": "execute_result"
    }
   ],
   "source": [
    "# call a column in the df\n",
    "df.loc[\"verb\"]"
   ]
  },
  {
   "cell_type": "code",
   "execution_count": 8,
   "id": "e7f2ab86",
   "metadata": {},
   "outputs": [
    {
     "data": {
      "text/plain": [
       "'to move very quickly'"
      ]
     },
     "execution_count": 8,
     "metadata": {},
     "output_type": "execute_result"
    }
   ],
   "source": [
    "# call a particular cell\n",
    "df.loc[\"verb\", \"run\"]"
   ]
  },
  {
   "cell_type": "code",
   "execution_count": 10,
   "id": "3c8b5fad",
   "metadata": {
    "scrolled": false
   },
   "outputs": [
    {
     "data": {
      "text/html": [
       "<div>\n",
       "<style scoped>\n",
       "    .dataframe tbody tr th:only-of-type {\n",
       "        vertical-align: middle;\n",
       "    }\n",
       "\n",
       "    .dataframe tbody tr th {\n",
       "        vertical-align: top;\n",
       "    }\n",
       "\n",
       "    .dataframe thead th {\n",
       "        text-align: right;\n",
       "    }\n",
       "</style>\n",
       "<table border=\"1\" class=\"dataframe\">\n",
       "  <thead>\n",
       "    <tr style=\"text-align: right;\">\n",
       "      <th></th>\n",
       "      <th>Age</th>\n",
       "      <th>Interesting Fact</th>\n",
       "    </tr>\n",
       "  </thead>\n",
       "  <tbody>\n",
       "    <tr>\n",
       "      <th>Caden</th>\n",
       "      <td>19</td>\n",
       "      <td>Played Hockey</td>\n",
       "    </tr>\n",
       "    <tr>\n",
       "      <th>Jacob P</th>\n",
       "      <td>21</td>\n",
       "      <td>Dr. Caton made a mistake</td>\n",
       "    </tr>\n",
       "    <tr>\n",
       "      <th>Finnian</th>\n",
       "      <td>21</td>\n",
       "      <td>Wresled in High School</td>\n",
       "    </tr>\n",
       "    <tr>\n",
       "      <th>Genesis</th>\n",
       "      <td>20</td>\n",
       "      <td>Torn both ACLs</td>\n",
       "    </tr>\n",
       "    <tr>\n",
       "      <th>Sam</th>\n",
       "      <td>23</td>\n",
       "      <td>Favorite color is beige</td>\n",
       "    </tr>\n",
       "    <tr>\n",
       "      <th>Proma</th>\n",
       "      <td>24</td>\n",
       "      <td>Can classical dance</td>\n",
       "    </tr>\n",
       "    <tr>\n",
       "      <th>Zach</th>\n",
       "      <td>20</td>\n",
       "      <td>Track and Field</td>\n",
       "    </tr>\n",
       "    <tr>\n",
       "      <th>Jacob R</th>\n",
       "      <td>20</td>\n",
       "      <td>Plays the guitar</td>\n",
       "    </tr>\n",
       "    <tr>\n",
       "      <th>Brandon</th>\n",
       "      <td>23</td>\n",
       "      <td>Plays baseball</td>\n",
       "    </tr>\n",
       "    <tr>\n",
       "      <th>Gabe</th>\n",
       "      <td>23</td>\n",
       "      <td>Was a double major</td>\n",
       "    </tr>\n",
       "    <tr>\n",
       "      <th>Drew</th>\n",
       "      <td>49</td>\n",
       "      <td>Air force veteran</td>\n",
       "    </tr>\n",
       "    <tr>\n",
       "      <th>Isaac</th>\n",
       "      <td>21</td>\n",
       "      <td>Traveling to Europe next summer</td>\n",
       "    </tr>\n",
       "    <tr>\n",
       "      <th>Kodjo</th>\n",
       "      <td>30</td>\n",
       "      <td>wife is a soldier</td>\n",
       "    </tr>\n",
       "  </tbody>\n",
       "</table>\n",
       "</div>"
      ],
      "text/plain": [
       "        Age                 Interesting Fact\n",
       "Caden    19                    Played Hockey\n",
       "Jacob P  21         Dr. Caton made a mistake\n",
       "Finnian  21           Wresled in High School\n",
       "Genesis  20                   Torn both ACLs\n",
       "Sam      23          Favorite color is beige\n",
       "Proma    24              Can classical dance\n",
       "Zach     20                  Track and Field\n",
       "Jacob R  20                 Plays the guitar\n",
       "Brandon  23                   Plays baseball\n",
       "Gabe     23               Was a double major\n",
       "Drew     49                Air force veteran\n",
       "Isaac    21  Traveling to Europe next summer\n",
       "Kodjo    30                wife is a soldier"
      ]
     },
     "execution_count": 10,
     "metadata": {},
     "output_type": "execute_result"
    }
   ],
   "source": [
    "#Transpose a dataframe by calling df.T\n",
    "class_df = pd.DataFrame(dct).T\n",
    "class_df"
   ]
  },
  {
   "cell_type": "code",
   "execution_count": 13,
   "id": "337f4aee",
   "metadata": {},
   "outputs": [
    {
     "data": {
      "text/plain": [
       "Index(['Caden', 'Jacob P', 'Finnian', 'Genesis', 'Sam', 'Proma', 'Zach',\n",
       "       'Jacob R', 'Brandon', 'Gabe', 'Drew', 'Isaac', 'Kodjo'],\n",
       "      dtype='object')"
      ]
     },
     "execution_count": 13,
     "metadata": {},
     "output_type": "execute_result"
    }
   ],
   "source": [
    "# calls all indecies in dataframe\n",
    "class_df.index"
   ]
  },
  {
   "cell_type": "code",
   "execution_count": 16,
   "id": "4107378c",
   "metadata": {},
   "outputs": [
    {
     "data": {
      "text/plain": [
       "Caden      19\n",
       "Jacob P    21\n",
       "Finnian    21\n",
       "Genesis    20\n",
       "Sam        23\n",
       "Proma      24\n",
       "Zach       20\n",
       "Jacob R    20\n",
       "Brandon    23\n",
       "Gabe       23\n",
       "Drew       49\n",
       "Isaac      21\n",
       "Kodjo      30\n",
       "Name: Age, dtype: object"
      ]
     },
     "execution_count": 16,
     "metadata": {},
     "output_type": "execute_result"
    }
   ],
   "source": [
    "class_df[\"Age\"]"
   ]
  },
  {
   "cell_type": "code",
   "execution_count": 18,
   "id": "bfc9fad5",
   "metadata": {},
   "outputs": [
    {
     "data": {
      "text/plain": [
       "Caden                        Played Hockey\n",
       "Jacob P           Dr. Caton made a mistake\n",
       "Finnian             Wresled in High School\n",
       "Genesis                     Torn both ACLs\n",
       "Sam                Favorite color is beige\n",
       "Proma                  Can classical dance\n",
       "Zach                       Track and Field\n",
       "Jacob R                   Plays the guitar\n",
       "Brandon                     Plays baseball\n",
       "Gabe                    Was a double major\n",
       "Drew                     Air force veteran\n",
       "Isaac      Traveling to Europe next summer\n",
       "Kodjo                    wife is a soldier\n",
       "Name: Interesting Fact, dtype: object"
      ]
     },
     "execution_count": 18,
     "metadata": {},
     "output_type": "execute_result"
    }
   ],
   "source": [
    "class_df[\"Interesting Fact\"]"
   ]
  },
  {
   "cell_type": "code",
   "execution_count": 37,
   "id": "3e33aa0f",
   "metadata": {},
   "outputs": [
    {
     "ename": "NameError",
     "evalue": "name 'NONE' is not defined",
     "output_type": "error",
     "traceback": [
      "\u001b[0;31m---------------------------------------------------------------------------\u001b[0m",
      "\u001b[0;31mNameError\u001b[0m                                 Traceback (most recent call last)",
      "\u001b[0;32m<ipython-input-37-0bbf56bac668>\u001b[0m in \u001b[0;36m<module>\u001b[0;34m\u001b[0m\n\u001b[1;32m      1\u001b[0m \u001b[0mdct\u001b[0m\u001b[0;34m[\u001b[0m\u001b[0;34m\"Dr. Caton\"\u001b[0m\u001b[0;34m]\u001b[0m \u001b[0;34m=\u001b[0m \u001b[0;34m{\u001b[0m\u001b[0;34m}\u001b[0m\u001b[0;34m\u001b[0m\u001b[0;34m\u001b[0m\u001b[0m\n\u001b[0;32m----> 2\u001b[0;31m \u001b[0mdct\u001b[0m\u001b[0;34m[\u001b[0m\u001b[0;34m\"Dr. Caton\"\u001b[0m\u001b[0;34m]\u001b[0m \u001b[0;34m[\u001b[0m\u001b[0;34m\"Age\"\u001b[0m\u001b[0;34m]\u001b[0m \u001b[0;34m=\u001b[0m \u001b[0mNONE\u001b[0m\u001b[0;34m\u001b[0m\u001b[0;34m\u001b[0m\u001b[0m\n\u001b[0m\u001b[1;32m      3\u001b[0m \u001b[0mdct\u001b[0m\u001b[0;34m[\u001b[0m\u001b[0;34m\"Dr. Caton\"\u001b[0m\u001b[0;34m]\u001b[0m \u001b[0;34m[\u001b[0m\u001b[0;34m\"Interesting Fact\"\u001b[0m\u001b[0;34m]\u001b[0m \u001b[0;34m=\u001b[0m \u001b[0;34m\"Used to ride dirt bike\"\u001b[0m\u001b[0;34m\u001b[0m\u001b[0;34m\u001b[0m\u001b[0m\n",
      "\u001b[0;31mNameError\u001b[0m: name 'NONE' is not defined"
     ]
    }
   ],
   "source": [
    "dct[\"Dr. Caton\"] = {}\n",
    "dct[\"Dr. Caton\"] [\"Age\"] = NONE\n",
    "dct[\"Dr. Caton\"] [\"Interesting Fact\"] = \"Used to ride dirt bike\""
   ]
  },
  {
   "cell_type": "code",
   "execution_count": 41,
   "id": "70ebf6cd",
   "metadata": {},
   "outputs": [],
   "source": [
    "dct[\"Joe Biden\"] = {\"Age\":78,\n",
    "                  \"Interesting Fact\":\"Plays Mario Kart with grandchildren\",\n",
    "                   \"Job\":\"President of the U.S.A.\"}"
   ]
  },
  {
   "cell_type": "code",
   "execution_count": 42,
   "id": "4b773186",
   "metadata": {},
   "outputs": [
    {
     "data": {
      "text/html": [
       "<div>\n",
       "<style scoped>\n",
       "    .dataframe tbody tr th:only-of-type {\n",
       "        vertical-align: middle;\n",
       "    }\n",
       "\n",
       "    .dataframe tbody tr th {\n",
       "        vertical-align: top;\n",
       "    }\n",
       "\n",
       "    .dataframe thead th {\n",
       "        text-align: right;\n",
       "    }\n",
       "</style>\n",
       "<table border=\"1\" class=\"dataframe\">\n",
       "  <thead>\n",
       "    <tr style=\"text-align: right;\">\n",
       "      <th></th>\n",
       "      <th>Age</th>\n",
       "      <th>Interesting Fact</th>\n",
       "      <th>Job</th>\n",
       "    </tr>\n",
       "  </thead>\n",
       "  <tbody>\n",
       "    <tr>\n",
       "      <th>Caden</th>\n",
       "      <td>19</td>\n",
       "      <td>Played Hockey</td>\n",
       "      <td>NaN</td>\n",
       "    </tr>\n",
       "    <tr>\n",
       "      <th>Jacob P</th>\n",
       "      <td>21</td>\n",
       "      <td>Dr. Caton made a mistake</td>\n",
       "      <td>NaN</td>\n",
       "    </tr>\n",
       "    <tr>\n",
       "      <th>Finnian</th>\n",
       "      <td>21</td>\n",
       "      <td>Wresled in High School</td>\n",
       "      <td>NaN</td>\n",
       "    </tr>\n",
       "    <tr>\n",
       "      <th>Genesis</th>\n",
       "      <td>20</td>\n",
       "      <td>Torn both ACLs</td>\n",
       "      <td>NaN</td>\n",
       "    </tr>\n",
       "    <tr>\n",
       "      <th>Sam</th>\n",
       "      <td>23</td>\n",
       "      <td>Favorite color is beige</td>\n",
       "      <td>NaN</td>\n",
       "    </tr>\n",
       "    <tr>\n",
       "      <th>Proma</th>\n",
       "      <td>24</td>\n",
       "      <td>Can classical dance</td>\n",
       "      <td>NaN</td>\n",
       "    </tr>\n",
       "    <tr>\n",
       "      <th>Zach</th>\n",
       "      <td>20</td>\n",
       "      <td>Track and Field</td>\n",
       "      <td>NaN</td>\n",
       "    </tr>\n",
       "    <tr>\n",
       "      <th>Jacob R</th>\n",
       "      <td>20</td>\n",
       "      <td>Plays the guitar</td>\n",
       "      <td>NaN</td>\n",
       "    </tr>\n",
       "    <tr>\n",
       "      <th>Brandon</th>\n",
       "      <td>23</td>\n",
       "      <td>Plays baseball</td>\n",
       "      <td>NaN</td>\n",
       "    </tr>\n",
       "    <tr>\n",
       "      <th>Gabe</th>\n",
       "      <td>23</td>\n",
       "      <td>Was a double major</td>\n",
       "      <td>NaN</td>\n",
       "    </tr>\n",
       "    <tr>\n",
       "      <th>Drew</th>\n",
       "      <td>49</td>\n",
       "      <td>Air force veteran</td>\n",
       "      <td>NaN</td>\n",
       "    </tr>\n",
       "    <tr>\n",
       "      <th>Isaac</th>\n",
       "      <td>21</td>\n",
       "      <td>Traveling to Europe next summer</td>\n",
       "      <td>NaN</td>\n",
       "    </tr>\n",
       "    <tr>\n",
       "      <th>Kodjo</th>\n",
       "      <td>30</td>\n",
       "      <td>wife is a soldier</td>\n",
       "      <td>NaN</td>\n",
       "    </tr>\n",
       "    <tr>\n",
       "      <th>Dr. Caton</th>\n",
       "      <td>NaN</td>\n",
       "      <td>NaN</td>\n",
       "      <td>NaN</td>\n",
       "    </tr>\n",
       "    <tr>\n",
       "      <th>Joe Biden</th>\n",
       "      <td>78</td>\n",
       "      <td>Plays Mario Kart with grandchildren</td>\n",
       "      <td>President of the U.S.A.</td>\n",
       "    </tr>\n",
       "  </tbody>\n",
       "</table>\n",
       "</div>"
      ],
      "text/plain": [
       "           Age                     Interesting Fact                      Job\n",
       "Caden       19                        Played Hockey                      NaN\n",
       "Jacob P     21             Dr. Caton made a mistake                      NaN\n",
       "Finnian     21               Wresled in High School                      NaN\n",
       "Genesis     20                       Torn both ACLs                      NaN\n",
       "Sam         23              Favorite color is beige                      NaN\n",
       "Proma       24                  Can classical dance                      NaN\n",
       "Zach        20                      Track and Field                      NaN\n",
       "Jacob R     20                     Plays the guitar                      NaN\n",
       "Brandon     23                       Plays baseball                      NaN\n",
       "Gabe        23                   Was a double major                      NaN\n",
       "Drew        49                    Air force veteran                      NaN\n",
       "Isaac       21      Traveling to Europe next summer                      NaN\n",
       "Kodjo       30                    wife is a soldier                      NaN\n",
       "Dr. Caton  NaN                                  NaN                      NaN\n",
       "Joe Biden   78  Plays Mario Kart with grandchildren  President of the U.S.A."
      ]
     },
     "execution_count": 42,
     "metadata": {},
     "output_type": "execute_result"
    }
   ],
   "source": [
    "pd.DataFrame(dct).T"
   ]
  },
  {
   "cell_type": "code",
   "execution_count": 40,
   "id": "6a4ba43c",
   "metadata": {},
   "outputs": [
    {
     "data": {
      "text/plain": [
       "Age                 object\n",
       "Interesting Fact    object\n",
       "dtype: object"
      ]
     },
     "execution_count": 40,
     "metadata": {},
     "output_type": "execute_result"
    }
   ],
   "source": [
    "class_df.dtypes"
   ]
  },
  {
   "cell_type": "code",
   "execution_count": null,
   "id": "5c371874",
   "metadata": {},
   "outputs": [],
   "source": [
    "faculty_dict =  {\"William Nganje\":{\"Website\":\"https://www.ndsu.edu/agecon/faculty/william_nganje/#c622350\", \n",
    "                                     \"Areas of Specialization\":\"Risk management; financial analysis; economics of obesity, food safety and food terrorism; experimental economics; and consumer choice theory\",\n",
    "                                     \"Bio\":\"NA\"},\n",
    "                 \"David Bullock\": {\"Website\":\"https://www.ndsu.edu/agecon/faculty/bullock/#c622728\",\n",
    "                                    \"Areas of Specialization\": \"futures and options markets, over-the-counter derivatives, trading, risk management, agrifinance, Monte Carlo simulation, and Big Data\",\n",
    "                                    \"Bio\":\"Dr. David W. Bullock is a Research Associate Professor affiliated with the Center for Trading and Risk at NDSU.  His research interests include futures and options markets, over-the-counter derivatives, trading, risk management, agrifinance, Monte Carlo simulation, and Big Data applications in agriculture.  His academic research in option portfolio theory has been published in both the Journal of Economics and Business and the International Review of Economics and Finance.  Additionally, he was the primary contributor behind the AgriBank Insights publication series which won a National AgriMarketing Association (NAMA) award for the best company publication in 2016. Before coming to NDSU in January 2018, Dr. Bullock held numerous positions for over 25 years in the government and private sectors including the Senior Economist at AgriBank FCB – the regional Farm Credit System funding bank for the Upper Midwest region, Director of Research and Senior Foods Economist at Fortune 500 commodity risk management firm INTL FCStone Inc., the Senior Dairy Analyst at Informa Economics, a Risk Management Specialist with the Minnesota Department of Agriculture, and the Senior Economist at the Minneapolis Grain Exchange. David began his academic career as an Assistant Professor and Extension Marketing Economist at Montana State University after graduating from Iowa State University with a Ph.D. in agricultural economics with fields in agricultural price analysis and econometrics in 1989.  Prior to entering ISU, he received bachelor’s (1982) and master’s (1984) degrees in agricultural economics from Northwest Missouri State University. Dr. Bullock is originally from the small northwestern Missouri farming community of Lathrop which is located 40 miles north of the Kansas City metropolitan area.  While in high school, he served as a regional state Vice-President in the Future Farmers of America (FFA) during his senior year.\"},\n",
    "                 \"James Caton\": {\"Website\":\"https://www.ndsu.edu/centers/pcpe/about/directory/james_caton/\",\n",
    "                                 \"Areas of Specialization\": \"Entrepreneurship, Institutions, Macroeconomics, Computation\",\n",
    "                                 \"Bio\":\"James Caton is a faculty fellow at the NDSU Center for the Study of Public Choice and Private Enterprise (PCPE) and an assistant professor in the NDSU Department of Agribusiness and Applied Economics. He teaches undergraduate courses in the areas of macroeconomics, international trade, and computation. He specializes in research related to entrepreneurship, agent-based computational economics, market process theory, and monetary economics. His research has been published in the Southern Economic Journal, Erasmus Journal for Philosophy and Economics, Journal of Entrepreneurship and Public Policy and other academic publications. He co-edited Macroeconomics, a two volume set of essays and primary sources that represent the core of macroeconomic thought. He is also a regular contributor to the American Institute for Economic Research's Sound Money Project, which conducts research and promotes awareness about monetary stability and financial privacy. He resides in Fargo with his wife, Ingrid, and their children.\"},\n",
    "                 \"David Englund\": {\"Website\":\"https://www.ndsu.edu/agecon/faculty/englund/#c622903\",\n",
    "                                 \"Areas of Specialization\": \"Teaches Economic Principles, Led NDSU NAMA to National Champions\",\n",
    "                                 \"Bio\":\"David Englund is a lecturer in the department.  He came to the department with 16 years of teaching experience, having taught Principles of Microeconomics, Principles of Macroeconomics, Money and Banking, Consumer Behavior, Selected Topics in Business, and several other classes.  He also had 10 years’ experience advising student NAMA chapters, having been awarded the Outstanding Advisor of the Year for a Developing Chapter in 2002, and the Outstanding Advisor of the Year award in 2009.\\nDavid primarily teaches Survey of Economics, Principles of Microeconomics, Skills for Academic Success, Agricultural Marketing, and NAMA (co-teaches).  He joined the NAMA team in the 2014-2015 school year as a co-advisor and helped coach the student team to a 3rd place finish in the national student marketing plan competition at the national conference.\\nSome of David’s outside interests are jogging, photography, and writing fiction novels.  His latest release, Camouflaged Encounters has received positive reviews.\"},\n",
    "                 \"Erik Hanson\": {\"Website\":\"https://www.ndsu.edu/agecon/faculty/hanson/#c622905\",\n",
    "                                 \"Areas of Specialization\": \"Ag Management, Ag Finance\",\n",
    "                                 \"Bio\":\"Erik Hanson is an Assistant Professor in the Department of Agricultural and Applied Economics. He teaches courses on agribusiness management and agricultural finance. Erik completed his Ph.D. at the University of Minnesota in 2016. Prior to that, Erik completed a master’s degree at the University of Illinois (2013) and a bachelor’s degree at Minnesota State University Moorhead (2011).\"},\n",
    "                 \"Ronald Haugen\": {\"Website\":\"https://www.ndsu.edu/agecon/about_us/faculty/ron_haugen/#c654700\",\n",
    "                                 \"Areas of Specialization\": \"Farm management topics include: crop budgets, crop insurance, farm programs, custom farm rates, land rents, machinery economics, commodity price projections and agricultural income taxes.\",\n",
    "                                 \"Bio\":\"Ron Haugen is an Extension Farm Management Specialist. He has been in the department since 1991. He computes the North Dakota Land Valuation Model.\"},\n",
    "                 \"Robert Hearne\": {\"Website\":\"\",\n",
    "                                 \"Areas of Specialization\": \"\",\n",
    "                                 \"Bio\":\"\"},\n",
    "                 \"Jeremy Jackson\": {\"Website\":\"\",\n",
    "                                 \"Areas of Specialization\": \"\",\n",
    "                                 \"Bio\":\"\"},\n",
    "                 \"Prithviraj Lakkakula\": {\"Website\":\"\",\n",
    "                                 \"Areas of Specialization\": \"\",\n",
    "                                 \"Bio\":\"\"},\n",
    "                 \"Siew Lim\": {\"Website\":\"\",\n",
    "                                 \"Areas of Specialization\": \"\",\n",
    "                                 \"Bio\":\"\"},\n",
    "                 \"Zachary Machunda\": {\"Website\":\"\",\n",
    "                                 \"Areas of Specialization\": \"\",\n",
    "                                 \"Bio\":\"\"},\n",
    "                 \"Raymond March\": {\"Website\":\"\",\n",
    "                                 \"Areas of Specialization\": \"\",\n",
    "                                 \"Bio\":\"\"},\n",
    "                 \"Dragan Miljkovic\": {\"Website\":\"\",\n",
    "                                 \"Areas of Specialization\": \"\",\n",
    "                                 \"Bio\":\"\"},\n",
    "                 \"Frayne Olson\": {\"Website\":\"\",\n",
    "                                 \"Areas of Specialization\": \"\",\n",
    "                                 \"Bio\":\"\"},\n",
    "                 \"Bryon Parman\": {\"Website\":\"\",\n",
    "                                 \"Areas of Specialization\": \"\",\n",
    "                                 \"Bio\":\"\"},\n",
    "                 \"Tim Petry\": {\"Website\":\"\",\n",
    "                                 \"Areas of Specialization\": \"\",\n",
    "                                 \"Bio\":\"\"},\n",
    "                 \"Xudong Rao\": {\"Website\":\"\",\n",
    "                                 \"Areas of Specialization\": \"\",\n",
    "                                 \"Bio\":\"\"},\n",
    "                 \"Veeshan Rayamajhee\": {\"Website\":\"\",\n",
    "                                 \"Areas of Specialization\": \"\",\n",
    "                                 \"Bio\":\"\"},\n",
    "                 \"David Ripplinger\": {\"Website\":\"\",\n",
    "                                 \"Areas of Specialization\": \"\",\n",
    "                                 \"Bio\":\"\"},\n",
    "                 \"David Roberts\": {\"Website\":\"\",\n",
    "                                 \"Areas of Specialization\": \"\",\n",
    "                                 \"Bio\":\"\"},\n",
    "                 \"Kristi Schweiss\": {\"Website\":\"\",\n",
    "                                 \"Areas of Specialization\": \"\",\n",
    "                                 \"Bio\":\"\"},\n",
    "                 \"Saleem Shaik\": {\"Website\":\"\",\n",
    "                                 \"Areas of Specialization\": \"\",\n",
    "                                 \"Bio\":\"\"},\n",
    "                 \"Anupa Sharma\": {\"Website\":\"\",\n",
    "                                 \"Areas of Specialization\": \"\",\n",
    "                                 \"Bio\":\"\"},\n",
    "                 \"Andrew Swenson\": {\"Website\":\"\",\n",
    "                                 \"Areas of Specialization\": \"\",\n",
    "                                 \"Bio\":\"\"},\n",
    "                 \"Cheryl Wachenheim\": {\"Website\":\"\",\n",
    "                                 \"Areas of Specialization\": \"\",\n",
    "                                 \"Bio\":\"\"},\n",
    "                 \"Tom Wahl\": {\"Website\":\"\",\n",
    "                                 \"Areas of Specialization\": \"\",\n",
    "                                 \"Bio\":\"\"},\n",
    "                 \"William Wilson\": {\"Website\":\"\",\n",
    "                                 \"Areas of Specialization\": \"\",\n",
    "                                 \"Bio\":\"\"},\n",
    "                 \"Ryan Yonk\": {\"Website\":\"\",\n",
    "                                 \"Areas of Specialization\": \"\",\n",
    "                                 \"Bio\":\"\"},\n",
    "                 \"Lei Zhang\": {\"Website\":\"\",\n",
    "                                 \"Areas of Specialization\": \"\",\n",
    "                                 \"Bio\":\"\"}\n",
    "                }\n",
    "faculty_dict"
   ]
  }
 ],
 "metadata": {
  "kernelspec": {
   "display_name": "Python 3",
   "language": "python",
   "name": "python3"
  },
  "language_info": {
   "codemirror_mode": {
    "name": "ipython",
    "version": 3
   },
   "file_extension": ".py",
   "mimetype": "text/x-python",
   "name": "python",
   "nbconvert_exporter": "python",
   "pygments_lexer": "ipython3",
   "version": "3.8.8"
  }
 },
 "nbformat": 4,
 "nbformat_minor": 5
}
