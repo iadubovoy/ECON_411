{
 "cells": [
  {
   "cell_type": "markdown",
   "id": "0dec8c12",
   "metadata": {},
   "source": [
    "# Project 2: Chapter 2 - Working with Lists\n",
    "\n",
    "## Lists can hold any kind of object"
   ]
  },
  {
   "cell_type": "code",
   "execution_count": 4,
   "id": "8813db53",
   "metadata": {},
   "outputs": [
    {
     "name": "stdout",
     "output_type": "stream",
     "text": [
      "[]\n",
      "[1, 4, 8, 16, 32]\n",
      "[1.0, 4.0, 8.0, 16.0, 32.0]\n",
      "['Some Words', 'Some new words']\n",
      "[2, 5.0, 'Words I need']\n"
     ]
    }
   ],
   "source": [
    "empty_list = []\n",
    "int_list = [1,4,8,16,32]\n",
    "float_list = [1.0,4.0,8.0,16.0,32.0]\n",
    "string_list = [\"Some Words\" , \"Some new words\"]\n",
    "mixed_list = [2, 5.0, \"Words I need\"]\n",
    "\n",
    "print(empty_list)\n",
    "print(int_list)\n",
    "print(float_list)\n",
    "print(string_list)\n",
    "print(mixed_list)"
   ]
  },
  {
   "cell_type": "markdown",
   "id": "e89a2342",
   "metadata": {},
   "source": [
    "Let's check the types of objects in the last list."
   ]
  },
  {
   "cell_type": "code",
   "execution_count": 5,
   "id": "d95585d6",
   "metadata": {},
   "outputs": [
    {
     "data": {
      "text/plain": [
       "list"
      ]
     },
     "execution_count": 5,
     "metadata": {},
     "output_type": "execute_result"
    }
   ],
   "source": [
    "type(mixed_list)"
   ]
  },
  {
   "cell_type": "markdown",
   "id": "97e3142e",
   "metadata": {},
   "source": [
    "To access elements in a list, you must call the index which starts from 0 and counts upward with each additional element."
   ]
  },
  {
   "cell_type": "code",
   "execution_count": 6,
   "id": "55d1dc25",
   "metadata": {},
   "outputs": [
    {
     "data": {
      "text/plain": [
       "(2, int)"
      ]
     },
     "execution_count": 6,
     "metadata": {},
     "output_type": "execute_result"
    }
   ],
   "source": [
    "mixed_list[0], type(mixed_list[0])"
   ]
  },
  {
   "cell_type": "code",
   "execution_count": 9,
   "id": "04b1fb42",
   "metadata": {},
   "outputs": [
    {
     "data": {
      "text/plain": [
       "(5.0, float)"
      ]
     },
     "execution_count": 9,
     "metadata": {},
     "output_type": "execute_result"
    }
   ],
   "source": [
    "mixed_list[1], type(mixed_list[1])"
   ]
  },
  {
   "cell_type": "code",
   "execution_count": 10,
   "id": "c7bed565",
   "metadata": {},
   "outputs": [
    {
     "data": {
      "text/plain": [
       "('Words I need', str)"
      ]
     },
     "execution_count": 10,
     "metadata": {},
     "output_type": "execute_result"
    }
   ],
   "source": [
    "mixed_list[2], type(mixed_list[2])"
   ]
  },
  {
   "cell_type": "markdown",
   "id": "e3974da0",
   "metadata": {},
   "source": [
    "## Concatenating the lists"
   ]
  },
  {
   "cell_type": "code",
   "execution_count": 11,
   "id": "74eeef9f",
   "metadata": {},
   "outputs": [
    {
     "data": {
      "text/plain": [
       "[1, 2, 4, 5, 7, 8]"
      ]
     },
     "execution_count": 11,
     "metadata": {},
     "output_type": "execute_result"
    }
   ],
   "source": [
    "list1 = [1,2,4,5,7,8]\n",
    "list2 = [3,6,9,12,15,18]\n",
    "\n",
    "join_lists = list1 + list2\n",
    "\n",
    "list1"
   ]
  },
  {
   "cell_type": "code",
   "execution_count": 12,
   "id": "89c7b003",
   "metadata": {},
   "outputs": [
    {
     "data": {
      "text/plain": [
       "[3, 6, 9, 12, 15, 18]"
      ]
     },
     "execution_count": 12,
     "metadata": {},
     "output_type": "execute_result"
    }
   ],
   "source": [
    "list2"
   ]
  },
  {
   "cell_type": "code",
   "execution_count": 13,
   "id": "a58d9a93",
   "metadata": {},
   "outputs": [
    {
     "data": {
      "text/plain": [
       "[1, 2, 4, 5, 7, 8, 3, 6, 9, 12, 15, 18]"
      ]
     },
     "execution_count": 13,
     "metadata": {},
     "output_type": "execute_result"
    }
   ],
   "source": [
    "join_lists"
   ]
  },
  {
   "cell_type": "markdown",
   "id": "3ea4baf4",
   "metadata": {},
   "source": [
    "Remember this is just like concatenating strings"
   ]
  },
  {
   "cell_type": "code",
   "execution_count": 14,
   "id": "e6b04bdf",
   "metadata": {},
   "outputs": [
    {
     "data": {
      "text/plain": [
       "'Words, maybe stringMy better string'"
      ]
     },
     "execution_count": 14,
     "metadata": {},
     "output_type": "execute_result"
    }
   ],
   "source": [
    "str1 = \"Words, maybe string\"\n",
    "str2 = \"My better string\"\n",
    "\n",
    "join_strings = str1 + str2\n",
    "join_strings"
   ]
  },
  {
   "cell_type": "code",
   "execution_count": 15,
   "id": "7c338bb8",
   "metadata": {},
   "outputs": [
    {
     "data": {
      "text/plain": [
       "'r'"
      ]
     },
     "execution_count": 15,
     "metadata": {},
     "output_type": "execute_result"
    }
   ],
   "source": [
    "join_strings[2]"
   ]
  },
  {
   "cell_type": "markdown",
   "id": "ce9ebd57",
   "metadata": {},
   "source": [
    "## List slices\n",
    "\n",
    "Suppose that you wanted to call a subset of a list or string. You can do this by using calling lst[start:end]"
   ]
  },
  {
   "cell_type": "code",
   "execution_count": 16,
   "id": "a3053f1d",
   "metadata": {},
   "outputs": [
    {
     "data": {
      "text/plain": [
       "[1, 2, 4, 5, 7, 8, 3, 6, 9, 12, 15, 18]"
      ]
     },
     "execution_count": 16,
     "metadata": {},
     "output_type": "execute_result"
    }
   ],
   "source": [
    "join_lists"
   ]
  },
  {
   "cell_type": "code",
   "execution_count": 17,
   "id": "d3104587",
   "metadata": {},
   "outputs": [
    {
     "data": {
      "text/plain": [
       "[1, 2, 4, 5, 7]"
      ]
     },
     "execution_count": 17,
     "metadata": {},
     "output_type": "execute_result"
    }
   ],
   "source": [
    "join_lists[:5]"
   ]
  },
  {
   "cell_type": "code",
   "execution_count": 18,
   "id": "130c0009",
   "metadata": {},
   "outputs": [
    {
     "data": {
      "text/plain": [
       "[1, 2, 4, 5, 7]"
      ]
     },
     "execution_count": 18,
     "metadata": {},
     "output_type": "execute_result"
    }
   ],
   "source": [
    "join_lists[0:5]"
   ]
  },
  {
   "cell_type": "code",
   "execution_count": 19,
   "id": "3746297b",
   "metadata": {},
   "outputs": [
    {
     "data": {
      "text/plain": [
       "'Words'"
      ]
     },
     "execution_count": 19,
     "metadata": {},
     "output_type": "execute_result"
    }
   ],
   "source": [
    "join_strings[:5]"
   ]
  },
  {
   "cell_type": "code",
   "execution_count": 20,
   "id": "e085dfb1",
   "metadata": {},
   "outputs": [
    {
     "data": {
      "text/plain": [
       "'Words'"
      ]
     },
     "execution_count": 20,
     "metadata": {},
     "output_type": "execute_result"
    }
   ],
   "source": [
    "join_strings[0:5]"
   ]
  },
  {
   "cell_type": "code",
   "execution_count": 22,
   "id": "1e941e4f",
   "metadata": {},
   "outputs": [
    {
     "data": {
      "text/plain": [
       "', maybe stringMy better string'"
      ]
     },
     "execution_count": 22,
     "metadata": {},
     "output_type": "execute_result"
    }
   ],
   "source": [
    "join_strings[5:]"
   ]
  },
  {
   "cell_type": "markdown",
   "id": "03b5d421",
   "metadata": {},
   "source": [
    "If you call lst[-1], it will access the last element in the list."
   ]
  },
  {
   "cell_type": "code",
   "execution_count": 24,
   "id": "55174abc",
   "metadata": {},
   "outputs": [
    {
     "data": {
      "text/plain": [
       "(18, 'g')"
      ]
     },
     "execution_count": 24,
     "metadata": {},
     "output_type": "execute_result"
    }
   ],
   "source": [
    "join_lists[-1], join_strings[-1]"
   ]
  },
  {
   "cell_type": "markdown",
   "id": "de8b08e0",
   "metadata": {},
   "source": [
    "You can count from the end of the list using the negative sign (-). If you count backword after the first colon, this will call all excpet for the last i elements for the command list[:-i]."
   ]
  },
  {
   "cell_type": "code",
   "execution_count": 26,
   "id": "d873ecad",
   "metadata": {},
   "outputs": [
    {
     "data": {
      "text/plain": [
       "([1, 2, 4, 5, 7, 8, 3, 6, 9, 12, 15], 'Words, maybe stringMy better strin')"
      ]
     },
     "execution_count": 26,
     "metadata": {},
     "output_type": "execute_result"
    }
   ],
   "source": [
    "join_lists[:-1], join_strings[:-1]"
   ]
  },
  {
   "cell_type": "code",
   "execution_count": 27,
   "id": "58fcd3b2",
   "metadata": {},
   "outputs": [
    {
     "data": {
      "text/plain": [
       "([1, 2, 4, 5, 7, 8, 3], 'Words, maybe stringMy better s')"
      ]
     },
     "execution_count": 27,
     "metadata": {},
     "output_type": "execute_result"
    }
   ],
   "source": [
    "join_lists[:-5], join_strings[:-5]"
   ]
  }
 ],
 "metadata": {
  "kernelspec": {
   "display_name": "Python 3",
   "language": "python",
   "name": "python3"
  },
  "language_info": {
   "codemirror_mode": {
    "name": "ipython",
    "version": 3
   },
   "file_extension": ".py",
   "mimetype": "text/x-python",
   "name": "python",
   "nbconvert_exporter": "python",
   "pygments_lexer": "ipython3",
   "version": "3.8.8"
  }
 },
 "nbformat": 4,
 "nbformat_minor": 5
}
