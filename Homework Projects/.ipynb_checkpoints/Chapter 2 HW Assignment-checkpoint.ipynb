{
 "cells": [
  {
   "cell_type": "markdown",
   "id": "345c17f5",
   "metadata": {},
   "source": [
    "## Exercises\n",
    "\n",
    "1. Create a list of numbers 100 elements in length that counts by 3s - i.e., [3,6,9,12,...]\n",
    "2. Using the list from question 1, create a second list whose elements are the same values converted to strings. hint: use a for loop and the function str().\n",
    "3. Using the list from question 2, create a variable that concatenates each of the elements in order of index (Hint: result should be like \"36912...\").\n",
    "4. Using .pop() and .append(), create a list whose values are the same as the list from question 1 but in reverse order. (Hint: .pop() removes the last element from a list. The value can be save, i.e., x = lst.pop().)\n",
    "5. Using len(), calculate the midpoint of the list from question 1. Pass this midpoint to slice the list so that the resultant copy includes only the second half of the list from question 1.\n",
    "6. Create a string that includes only every other element, starting from the 0th element, from the string in question 3 while maintaining the order of these elements (Hint: this can be done be using a for loop whose values are descending).\n",
    "7. Explain the difference between a dynamic list in Python (usually referred to as a list) and a tuple."
   ]
  },
  {
   "cell_type": "markdown",
   "id": "b566168d",
   "metadata": {},
   "source": [
    "1. Create a list of numbers 100 elements in length that counts by 3s - i.e., [3,6,9,12,...]"
   ]
  },
  {
   "cell_type": "code",
   "execution_count": 1,
   "id": "48e6bdc2",
   "metadata": {},
   "outputs": [
    {
     "name": "stdout",
     "output_type": "stream",
     "text": [
      "0\n",
      "3\n",
      "6\n",
      "9\n",
      "12\n",
      "15\n",
      "18\n",
      "21\n",
      "24\n",
      "27\n",
      "30\n",
      "33\n",
      "36\n",
      "39\n",
      "42\n",
      "45\n",
      "48\n",
      "51\n",
      "54\n",
      "57\n",
      "60\n",
      "63\n",
      "66\n",
      "69\n",
      "72\n",
      "75\n",
      "78\n",
      "81\n",
      "84\n",
      "87\n",
      "90\n",
      "93\n",
      "96\n",
      "99\n",
      "102\n",
      "105\n",
      "108\n",
      "111\n",
      "114\n",
      "117\n",
      "120\n",
      "123\n",
      "126\n",
      "129\n",
      "132\n",
      "135\n",
      "138\n",
      "141\n",
      "144\n",
      "147\n",
      "150\n",
      "153\n",
      "156\n",
      "159\n",
      "162\n",
      "165\n",
      "168\n",
      "171\n",
      "174\n",
      "177\n",
      "180\n",
      "183\n",
      "186\n",
      "189\n",
      "192\n",
      "195\n",
      "198\n",
      "201\n",
      "204\n",
      "207\n",
      "210\n",
      "213\n",
      "216\n",
      "219\n",
      "222\n",
      "225\n",
      "228\n",
      "231\n",
      "234\n",
      "237\n",
      "240\n",
      "243\n",
      "246\n",
      "249\n",
      "252\n",
      "255\n",
      "258\n",
      "261\n",
      "264\n",
      "267\n",
      "270\n",
      "273\n",
      "276\n",
      "279\n",
      "282\n",
      "285\n",
      "288\n",
      "291\n",
      "294\n",
      "297\n"
     ]
    }
   ],
   "source": [
    "for i in range(100):\n",
    "    print(3 * i)"
   ]
  },
  {
   "cell_type": "markdown",
   "id": "6272a9ab",
   "metadata": {},
   "source": [
    "Since I am interested, I am going to begin the list at 3."
   ]
  },
  {
   "cell_type": "code",
   "execution_count": 2,
   "id": "8947b973",
   "metadata": {},
   "outputs": [
    {
     "name": "stdout",
     "output_type": "stream",
     "text": [
      "3\n",
      "6\n",
      "9\n",
      "12\n",
      "15\n",
      "18\n",
      "21\n",
      "24\n",
      "27\n",
      "30\n",
      "33\n",
      "36\n",
      "39\n",
      "42\n",
      "45\n",
      "48\n",
      "51\n",
      "54\n",
      "57\n",
      "60\n",
      "63\n",
      "66\n",
      "69\n",
      "72\n",
      "75\n",
      "78\n",
      "81\n",
      "84\n",
      "87\n",
      "90\n",
      "93\n",
      "96\n",
      "99\n",
      "102\n",
      "105\n",
      "108\n",
      "111\n",
      "114\n",
      "117\n",
      "120\n",
      "123\n",
      "126\n",
      "129\n",
      "132\n",
      "135\n",
      "138\n",
      "141\n",
      "144\n",
      "147\n",
      "150\n",
      "153\n",
      "156\n",
      "159\n",
      "162\n",
      "165\n",
      "168\n",
      "171\n",
      "174\n",
      "177\n",
      "180\n",
      "183\n",
      "186\n",
      "189\n",
      "192\n",
      "195\n",
      "198\n",
      "201\n",
      "204\n",
      "207\n",
      "210\n",
      "213\n",
      "216\n",
      "219\n",
      "222\n",
      "225\n",
      "228\n",
      "231\n",
      "234\n",
      "237\n",
      "240\n",
      "243\n",
      "246\n",
      "249\n",
      "252\n",
      "255\n",
      "258\n",
      "261\n",
      "264\n",
      "267\n",
      "270\n",
      "273\n",
      "276\n",
      "279\n",
      "282\n",
      "285\n",
      "288\n",
      "291\n",
      "294\n",
      "297\n",
      "300\n"
     ]
    }
   ],
   "source": [
    "for i in range(100):\n",
    "    print((3 * i) + 3)"
   ]
  },
  {
   "cell_type": "markdown",
   "id": "c40f0777",
   "metadata": {},
   "source": [
    "2. Using the list from question 1, create a second list whose elements are the same values converted to strings. hint: use a for loop and the function str()."
   ]
  },
  {
   "cell_type": "code",
   "execution_count": 3,
   "id": "781a58cb",
   "metadata": {
    "scrolled": false
   },
   "outputs": [
    {
     "name": "stdout",
     "output_type": "stream",
     "text": [
      "[3, 6, 9, 12, 15, 18, 21, 24, 27, 30, 33, 36, 39, 42, 45, 48, 51, 54, 57, 60, 63, 66, 69, 72, 75, 78, 81, 84, 87, 90, 93, 96, 99, 102, 105, 108, 111, 114, 117, 120, 123, 126, 129, 132, 135, 138, 141, 144, 147, 150, 153, 156, 159, 162, 165, 168, 171, 174, 177, 180, 183, 186, 189, 192, 195, 198, 201, 204, 207, 210, 213, 216, 219, 222, 225, 228, 231, 234, 237, 240, 243, 246, 249, 252, 255, 258, 261, 264, 267, 270, 273, 276, 279, 282, 285, 288, 291, 294, 297, 300] <class 'str'>\n"
     ]
    }
   ],
   "source": [
    "list1 = []\n",
    "for i in range(100):\n",
    "    list1.append((3 * i) + 3)\n",
    "    \n",
    "list2 = str(list1)\n",
    "print(list2, type(list2))"
   ]
  },
  {
   "cell_type": "markdown",
   "id": "77d835f5",
   "metadata": {},
   "source": [
    "3. Using the list from question 2, create a variable that concatenates each of the elements in order of index (Hint: result should be like \"36912...\")."
   ]
  },
  {
   "cell_type": "code",
   "execution_count": 4,
   "id": "bc51259d",
   "metadata": {},
   "outputs": [
    {
     "data": {
      "text/plain": [
       "'369121518212427303336394245485154576063666972757881848790939699102105108111114117120123126129132135138141144147150153156159162165168171174177180183186189192195198201204207210213216219222225228231234237240243246249252255258261264267270273276279282285288291294297300'"
      ]
     },
     "execution_count": 4,
     "metadata": {},
     "output_type": "execute_result"
    }
   ],
   "source": [
    "list1 = []\n",
    "for i in range(100):\n",
    "    list1.append(str((3 * i) + 3))\n",
    "nospace = \"\"\n",
    "nospace.join(list1)"
   ]
  },
  {
   "cell_type": "markdown",
   "id": "8f821cdc",
   "metadata": {},
   "source": [
    "4. Using .pop() and .append(), create a list whose values are the same as the list from question 1 but in reverse order. (Hint: .pop() removes the last element from a list. The value can be save, i.e., x = lst.pop().)"
   ]
  },
  {
   "cell_type": "code",
   "execution_count": 5,
   "id": "679cf95a",
   "metadata": {},
   "outputs": [
    {
     "name": "stdout",
     "output_type": "stream",
     "text": [
      "['297', '294', '291', '288', '285', '282', '279', '276', '273', '270', '267', '264', '261', '258', '255', '252', '249', '246', '243', '240', '237', '234', '231', '228', '225', '222', '219', '216', '213', '210', '207', '204', '201', '198', '195', '192', '189', '186', '183', '180', '177', '174', '171', '168', '165', '162', '159', '156', '153', '150', '147', '144', '141', '138', '135', '132', '129', '126', '123', '120', '117', '114', '111', '108', '105', '102', '99', '96', '93', '90', '87', '84', '81', '78', '75', '72', '69', '66', '63', '60', '57', '54', '51', '48', '45', '42', '39', '36', '33', '30', '27', '24', '21', '18', '15', '12', '9', '6', '3']\n"
     ]
    }
   ],
   "source": [
    "list1 = []\n",
    "for i in range(100):\n",
    "    list1.append(str(303 - ((3 * i) + 3)))\n",
    "\n",
    "list1.pop(0) #I removed 300 from the list.\n",
    "print(list1)"
   ]
  },
  {
   "cell_type": "markdown",
   "id": "13a9109a",
   "metadata": {},
   "source": [
    "5. Using len(), calculate the midpoint of the list from question 1. Pass this midpoint to slice the list so that the resultant copy includes only the second half of the list from question 1."
   ]
  },
  {
   "cell_type": "code",
   "execution_count": 6,
   "id": "4fbf3293",
   "metadata": {
    "scrolled": true
   },
   "outputs": [
    {
     "name": "stdout",
     "output_type": "stream",
     "text": [
      "[153, 156, 159, 162, 165, 168, 171, 174, 177, 180, 183, 186, 189, 192, 195, 198, 201, 204, 207, 210, 213, 216, 219, 222, 225, 228, 231, 234, 237, 240, 243, 246, 249, 252, 255, 258, 261, 264, 267, 270, 273, 276, 279, 282, 285, 288, 291, 294, 297, 300] 50\n"
     ]
    }
   ],
   "source": [
    "list1 = []\n",
    "for i in range(100):\n",
    "    list1.append((3 * i) + 3) \n",
    "        \n",
    "\n",
    "length = (len(list1)//2)\n",
    "endlist = list1[-length:]\n",
    "                 \n",
    "print(endlist,length)"
   ]
  },
  {
   "cell_type": "markdown",
   "id": "824049aa",
   "metadata": {},
   "source": [
    "6. Create a string that includes only every other element, starting from the 0th element, from the string in question 3 while maintaining the order of these elements (Hint: this can be done be using a for loop whose values are descending)."
   ]
  },
  {
   "cell_type": "code",
   "execution_count": 7,
   "id": "b075968a",
   "metadata": {},
   "outputs": [
    {
     "name": "stdout",
     "output_type": "stream",
     "text": [
      "39152127333945515763697581879399105111117123129135141147153159165171177183189195201207213219225231237243249255261267273279285291297\n"
     ]
    }
   ],
   "source": [
    "list1 = []\n",
    "for i in range(100):\n",
    "    list1.append(str((3 * i) + 3))\n",
    "\n",
    "del list1[1::2]\n",
    "nospace = \"\"\n",
    "string = nospace.join(list1)\n",
    "\n",
    "print(string)"
   ]
  },
  {
   "cell_type": "markdown",
   "id": "74460a2f",
   "metadata": {},
   "source": [
    "7. Explain the difference between a dynamic list in Python (usually referred to as a list) and a tuple."
   ]
  },
  {
   "cell_type": "markdown",
   "id": "9b364b46",
   "metadata": {},
   "source": [
    "A list uses brackets whereas a tuple will use parenthesis. Besides that, a list also has more functions because a list can change and adapt while a tuple is not suposed to be changed. THe term that explains a list's ability to change is mutability, menaing that it can change. A tuple is called immutable."
   ]
  }
 ],
 "metadata": {
  "kernelspec": {
   "display_name": "Python 3",
   "language": "python",
   "name": "python3"
  },
  "language_info": {
   "codemirror_mode": {
    "name": "ipython",
    "version": 3
   },
   "file_extension": ".py",
   "mimetype": "text/x-python",
   "name": "python",
   "nbconvert_exporter": "python",
   "pygments_lexer": "ipython3",
   "version": "3.8.8"
  }
 },
 "nbformat": 4,
 "nbformat_minor": 5
}
